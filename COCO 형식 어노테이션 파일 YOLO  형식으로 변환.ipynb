{
 "cells": [
  {
   "cell_type": "markdown",
   "metadata": {},
   "source": [
    "# 필요 모듈 임포트"
   ]
  },
  {
   "cell_type": "code",
   "execution_count": null,
   "metadata": {},
   "outputs": [],
   "source": [
    "import json\n",
    "import os\n",
    "import pandas as pd\n",
    "import warnings\n",
    "from tqdm import tqdm\n",
    "import numpy as np\n",
    "\n",
    "warnings.filterwarnings('ignore')"
   ]
  },
  {
   "cell_type": "markdown",
   "metadata": {},
   "source": [
    "# 1. COCO 형식 bbox를 YOLO 형식 bbox로 변환하는 함수"
   ]
  },
  {
   "cell_type": "code",
   "execution_count": null,
   "metadata": {},
   "outputs": [],
   "source": [
    "def transform(bbox, w, h):\n",
    "    box = np.array(bbox, dtype=np.float64)\n",
    "    box[:2] += box[2:] / 2 # COCO 형식의 어노테이션 파일의 x,y는 좌측상단\n",
    "    box[[0, 2]] /= w  # x 정규화 \n",
    "    box[[1, 3]] /= h  # y 정규화\n",
    "    \n",
    "    return box"
   ]
  },
  {
   "cell_type": "markdown",
   "metadata": {},
   "source": [
    "# 2. YOLOv8 모델을 위한 어노테이션 txt 파일 생성"
   ]
  },
  {
   "cell_type": "code",
   "execution_count": null,
   "metadata": {},
   "outputs": [],
   "source": [
    "#어노테이션 파일을 생성할 이미지들이 있는 디렉토리\n",
    "image_path = './images'\n",
    "#COCO 형식의 json 파일이 있는 디렉토리\n",
    "json_path = './annotations'\n",
    "#YOLO 형식의 txt 파일을 저장할 디렉토리\n",
    "txt_path = './labels'\n",
    "\n",
    "#각 파손 유형별 json 파일과 각 파손 유형별 인덱스\n",
    "json_dict = {'균열-길이(Crack-Longitudinal,CL).json' : 0,\n",
    "            '균열-원주(Crack-Circumferential,CC).json':1,\n",
    "            '표면손상(Surface-Damage,SD).json':2,\n",
    "            '파손(Broken-Pipe,BK).json':3,\n",
    "            '연결관-돌출(Lateral-Protruding,LP).json':4,\n",
    "            '이음부-손상(Joint-Faulty,JF).json':5,\n",
    "            '이음부-단차(Joint-Displaced,JD).json':6,\n",
    "            '토사퇴적(Deposits-Silty,DS).json':7,\n",
    "            '기타결함(Etc.,ETC).json':8}"
   ]
  },
  {
   "cell_type": "code",
   "execution_count": null,
   "metadata": {},
   "outputs": [],
   "source": [
    "exif = 0\n",
    "\n",
    "for json_file in tqdm(json_dict):\n",
    "    \n",
    "    #json 어노테이션 파일 로드\n",
    "    with open(json_path + '/' + json_file) as f:\n",
    "        data = json.load(f)\n",
    "        \n",
    "    #EXIF는 매우 적으므로 무시\n",
    "    for cat in data['categories']:\n",
    "        if cat['name'] == 'EX':\n",
    "            exif = cat['id']\n",
    "    \n",
    "    #클래스 인덱스\n",
    "    class_id = json_dict[json_file]\n",
    "    #images 정보가 담긴 데이터프레임 형성\n",
    "    image_df = pd.DataFrame(data = data['images'])\n",
    "    #annotations 정보가 담긴 데이터프레임 형성\n",
    "    annot_df = pd.DataFrame(data = data['annotations'])\n",
    "    #images 데이터프레임과 annotations 데이터프레임 병합\n",
    "    df = pd.merge(left = image_df, right = annot_df, left_on = 'id', right_on = 'image_id')\n",
    "    #클래스 인덱스로 category_id 변경\n",
    "    df['category_id'] = class_id\n",
    "    #인덱스 리셋\n",
    "    df.reset_index(inplace = True, drop = True)\n",
    "\n",
    "    #bbox 변경\n",
    "    for i in range(len(df)):\n",
    "        bbox  = df.loc[i, 'bbox']\n",
    "        height = df.loc[i, 'height']\n",
    "        width = df.loc[i, 'width']\n",
    "        bbox = scaling(bbox, width, height) \n",
    "        df.loc[i, 'bbox'] = str(bbox)\n",
    "    #문자열 리스트 타입으로 변경\n",
    "    df['bbox'] = df['bbox'].apply(eval)\n",
    "    \n",
    "    #file명 기준으로 group by 객체 생성\n",
    "    grouped = df.groupby('file_name')\n",
    "    file_names = df['file_name'].unique()\n",
    "    \n",
    "    #annotation 텍스트 파일 생성\n",
    "    for file_name in file_names:\n",
    "        if file_name[:-4]+'.jpg' in images:\n",
    "            bboxs = grouped.get_group(file_name)['bbox']\n",
    "            with open(txt_path + '/' + file_name[:-4] + '.txt', 'w') as t:\n",
    "                for i, bbox in enumerate(bboxs):\n",
    "                    line = str(class_id) + ' ' + \" \".join(map(str, bbox))\n",
    "                    if i < len(bboxs) - 1:\n",
    "                        line += '\\n'  # 마지막 bbox가 아닌 경우에만 개행문자 추가\n",
    "                    t.write(line)"
   ]
  }
 ],
 "metadata": {
  "colab": {
   "authorship_tag": "ABX9TyNyse44s8tmODC5Jil8xhxs",
   "provenance": []
  },
  "kernelspec": {
   "display_name": "Python 3 (ipykernel)",
   "language": "python",
   "name": "python3"
  },
  "language_info": {
   "codemirror_mode": {
    "name": "ipython",
    "version": 3
   },
   "file_extension": ".py",
   "mimetype": "text/x-python",
   "name": "python",
   "nbconvert_exporter": "python",
   "pygments_lexer": "ipython3",
   "version": "3.9.12"
  }
 },
 "nbformat": 4,
 "nbformat_minor": 1
}
